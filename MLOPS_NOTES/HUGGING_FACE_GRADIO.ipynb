{
  "nbformat": 4,
  "nbformat_minor": 0,
  "metadata": {
    "colab": {
      "provenance": []
    },
    "kernelspec": {
      "name": "python3",
      "display_name": "Python 3"
    },
    "language_info": {
      "name": "python"
    }
  },
  "cells": [
    {
      "cell_type": "code",
      "execution_count": null,
      "metadata": {
        "colab": {
          "base_uri": "https://localhost:8080/"
        },
        "id": "Xw4mbOaP1Mn4",
        "outputId": "2172a3d5-b844-4605-b5f6-f54d9217af35"
      },
      "outputs": [
        {
          "output_type": "stream",
          "name": "stdout",
          "text": [
            "Requirement already satisfied: scikit-learn in /usr/local/lib/python3.11/dist-packages (1.7.0)\n",
            "Requirement already satisfied: numpy>=1.22.0 in /usr/local/lib/python3.11/dist-packages (from scikit-learn) (2.0.2)\n",
            "Requirement already satisfied: scipy>=1.8.0 in /usr/local/lib/python3.11/dist-packages (from scikit-learn) (1.15.3)\n",
            "Requirement already satisfied: joblib>=1.2.0 in /usr/local/lib/python3.11/dist-packages (from scikit-learn) (1.5.1)\n",
            "Requirement already satisfied: threadpoolctl>=3.1.0 in /usr/local/lib/python3.11/dist-packages (from scikit-learn) (3.6.0)\n"
          ]
        }
      ],
      "source": [
        "!pip install -U scikit-learn"
      ]
    },
    {
      "cell_type": "code",
      "source": [
        "import pickle\n",
        "from sklearn.datasets import load_iris\n",
        "from sklearn.tree import DecisionTreeClassifier\n",
        "\n",
        "# Load data\n",
        "iris = load_iris()\n",
        "X, y = iris.data, iris.target\n",
        "\n",
        "# Train model\n",
        "model = DecisionTreeClassifier()\n",
        "model.fit(X, y)\n",
        "\n",
        "# Save model\n",
        "with open(\"iris_model.pkl\", \"wb\") as f:\n",
        "    pickle.dump(model, f)\n",
        "\n",
        "print(\"✅ Model saved as iris_model.pkl\")\n"
      ],
      "metadata": {
        "colab": {
          "base_uri": "https://localhost:8080/"
        },
        "id": "4uXvcCwK5spR",
        "outputId": "458a49ba-f7d6-4b10-c95f-d757759d1cb9"
      },
      "execution_count": 1,
      "outputs": [
        {
          "output_type": "stream",
          "name": "stdout",
          "text": [
            "✅ Model saved as iris_model.pkl\n"
          ]
        }
      ]
    },
    {
      "cell_type": "code",
      "source": [
        "app_code = \"\"\"\n",
        "import gradio as gr\n",
        "import pickle\n",
        "import numpy as np\n",
        "\n",
        "# Load the trained model\n",
        "with open(\"iris_model.pkl\", \"rb\") as f:\n",
        "    model = pickle.load(f)\n",
        "\n",
        "# Define prediction function\n",
        "def predict(sepal_length, sepal_width, petal_length, petal_width):\n",
        "    x = np.array([[sepal_length, sepal_width, petal_length, petal_width]])\n",
        "    y_pred = model.predict(x)[0]\n",
        "    classes = [\"Iris-setosa\", \"Iris-versicolor\", \"Iris-virginica\"]\n",
        "    return f\"🌸 Predicted class: {classes[y_pred]}\"\n",
        "\n",
        "# Gradio interface\n",
        "interface = gr.Interface(\n",
        "    fn=predict,\n",
        "    inputs=[\n",
        "        gr.Number(label=\"Sepal Length\"),\n",
        "        gr.Number(label=\"Sepal Width\"),\n",
        "        gr.Number(label=\"Petal Length\"),\n",
        "        gr.Number(label=\"Petal Width\"),\n",
        "    ],\n",
        "    outputs=\"text\",\n",
        "    title=\"Iris Flower Classifier\"\n",
        ")\n",
        "\n",
        "interface.launch()\n",
        "\"\"\"\n",
        "\n",
        "with open(\"app.py\", \"w\") as f:\n",
        "    f.write(app_code)\n",
        "\n",
        "print(\"✅ app.py saved\")\n"
      ],
      "metadata": {
        "colab": {
          "base_uri": "https://localhost:8080/"
        },
        "id": "ec52lxQ16HmU",
        "outputId": "5d279748-930a-4d0b-a27c-d6b1b6f9d999"
      },
      "execution_count": null,
      "outputs": [
        {
          "output_type": "stream",
          "name": "stdout",
          "text": [
            "✅ app.py saved\n"
          ]
        }
      ]
    },
    {
      "cell_type": "code",
      "source": [
        "requirements = \"\"\"\n",
        "scikit-learn>=1.2\n",
        "gradio>=4.0.0\n",
        "\"\"\"\n",
        "\n",
        "with open(\"requirements.txt\", \"w\") as f:\n",
        "    f.write(requirements.strip())\n",
        "\n",
        "print(\"✅ requirements.txt saved\")\n"
      ],
      "metadata": {
        "id": "tYlCrA-B6NGU",
        "outputId": "77ec2c61-618a-4f8b-8ccb-4155b46ebc93",
        "colab": {
          "base_uri": "https://localhost:8080/"
        }
      },
      "execution_count": null,
      "outputs": [
        {
          "output_type": "stream",
          "name": "stdout",
          "text": [
            "✅ requirements.txt saved\n"
          ]
        }
      ]
    }
  ]
}