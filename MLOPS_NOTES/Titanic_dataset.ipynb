{
  "nbformat": 4,
  "nbformat_minor": 0,
  "metadata": {
    "colab": {
      "provenance": []
    },
    "kernelspec": {
      "name": "python3",
      "display_name": "Python 3"
    },
    "language_info": {
      "name": "python"
    }
  },
  "cells": [
    {
      "cell_type": "markdown",
      "source": [
        "1️⃣ Load the Iris dataset and display the first 5 rows of the DataFrame.\n",
        "\n",
        "2️⃣ Split the Iris data into X and y.\n",
        "\n",
        "3️⃣ Split X and y into train and test sets with test size 20%.\n",
        "\n",
        "4️⃣ Train a Logistic Regression model and print training accuracy.\n",
        "\n",
        "5️⃣ Predict on the test set and show the accuracy.\n",
        "\n",
        "6️⃣ Show predicted class probabilities for the first 5 test samples.\n",
        "\n",
        "7️⃣ Plot a confusion matrix for the Iris predictions.\n",
        "\n",
        "🚢 Titanic Dataset — Coding Questions\n",
        "8️⃣ Load Titanic CSV and select columns ['Pclass', 'Sex', 'Age', 'Fare', 'Survived'].\n",
        "\n",
        "9️⃣ Drop rows with missing values.\n",
        "\n",
        "🔟 Convert Sex column to numeric (male=0, female=1).\n",
        "\n",
        "1️⃣1️⃣ Separate X and y for Titanic.\n",
        "\n",
        "1️⃣2️⃣ Split Titanic data into train and test sets (20% test size).\n",
        "\n",
        "1️⃣3️⃣ Train Logistic Regression on Titanic and print test accuracy.\n",
        "\n",
        "1️⃣4️⃣ Write a Python function that takes 4 Iris feature values and predicts the class using a trained model.\n",
        "\n",
        "1️⃣5️⃣ Create a Gradio interface for the predict_iris function with sliders for input.\n",
        "\n",
        "1️⃣6️⃣ Save the trained Iris model to a .pkl file.\n",
        "\n",
        "1️⃣7️⃣ Load the model back from the .pkl file and make a prediction.\n",
        "\n",
        "1️⃣8️⃣ List the 3 required files to deploy your app to Hugging Face Spaces.\n",
        "\n",
        "1️⃣9️⃣ Write the content of a minimal requirements.txt for deploying the Iris Gradio app.\n",
        "\n",
        "2️⃣0️⃣ In app.py, write the standard Gradio iface.launch() inside if __name__ == \"__main__\": block."
      ],
      "metadata": {
        "id": "o2L7WYJ_fr9d"
      }
    }
  ]
}