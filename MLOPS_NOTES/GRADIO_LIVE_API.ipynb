{
  "nbformat": 4,
  "nbformat_minor": 0,
  "metadata": {
    "colab": {
      "provenance": []
    },
    "kernelspec": {
      "name": "python3",
      "display_name": "Python 3"
    },
    "language_info": {
      "name": "python"
    }
  },
  "cells": [
    {
      "cell_type": "markdown",
      "source": [
        "Step 1: Setup Colab\n",
        "Install the required libraries."
      ],
      "metadata": {
        "id": "VJSgWn7IxGKl"
      }
    },
    {
      "cell_type": "code",
      "execution_count": null,
      "metadata": {
        "colab": {
          "base_uri": "https://localhost:8080/"
        },
        "collapsed": true,
        "id": "51E96PNkwLqn",
        "outputId": "332b1f8e-c51a-4f5b-d783-e83523ebd4c0"
      },
      "outputs": [
        {
          "output_type": "stream",
          "name": "stdout",
          "text": [
            "Requirement already satisfied: gradio in /usr/local/lib/python3.11/dist-packages (5.31.0)\n",
            "Requirement already satisfied: scikit-learn in /usr/local/lib/python3.11/dist-packages (1.6.1)\n",
            "Requirement already satisfied: uvicorn in /usr/local/lib/python3.11/dist-packages (0.35.0)\n",
            "Requirement already satisfied: nest-asyncio in /usr/local/lib/python3.11/dist-packages (1.6.0)\n",
            "Requirement already satisfied: fastapi[all] in /usr/local/lib/python3.11/dist-packages (0.116.0)\n",
            "Requirement already satisfied: starlette<0.47.0,>=0.40.0 in /usr/local/lib/python3.11/dist-packages (from fastapi[all]) (0.46.2)\n",
            "Requirement already satisfied: pydantic!=1.8,!=1.8.1,!=2.0.0,!=2.0.1,!=2.1.0,<3.0.0,>=1.7.4 in /usr/local/lib/python3.11/dist-packages (from fastapi[all]) (2.11.7)\n",
            "Requirement already satisfied: typing-extensions>=4.8.0 in /usr/local/lib/python3.11/dist-packages (from fastapi[all]) (4.14.1)\n",
            "Collecting fastapi-cli>=0.0.8 (from fastapi-cli[standard]>=0.0.8; extra == \"all\"->fastapi[all])\n",
            "  Downloading fastapi_cli-0.0.8-py3-none-any.whl.metadata (6.3 kB)\n",
            "Requirement already satisfied: httpx>=0.23.0 in /usr/local/lib/python3.11/dist-packages (from fastapi[all]) (0.28.1)\n",
            "Requirement already satisfied: jinja2>=3.1.5 in /usr/local/lib/python3.11/dist-packages (from fastapi[all]) (3.1.6)\n",
            "Requirement already satisfied: python-multipart>=0.0.18 in /usr/local/lib/python3.11/dist-packages (from fastapi[all]) (0.0.20)\n",
            "Requirement already satisfied: itsdangerous>=1.1.0 in /usr/local/lib/python3.11/dist-packages (from fastapi[all]) (2.2.0)\n",
            "Requirement already satisfied: pyyaml>=5.3.1 in /usr/local/lib/python3.11/dist-packages (from fastapi[all]) (6.0.2)\n",
            "Collecting ujson!=4.0.2,!=4.1.0,!=4.2.0,!=4.3.0,!=5.0.0,!=5.1.0,>=4.0.1 (from fastapi[all])\n",
            "  Downloading ujson-5.10.0-cp311-cp311-manylinux_2_17_x86_64.manylinux2014_x86_64.whl.metadata (9.3 kB)\n",
            "Requirement already satisfied: orjson>=3.2.1 in /usr/local/lib/python3.11/dist-packages (from fastapi[all]) (3.10.18)\n",
            "Collecting email-validator>=2.0.0 (from fastapi[all])\n",
            "  Downloading email_validator-2.2.0-py3-none-any.whl.metadata (25 kB)\n",
            "Collecting pydantic-settings>=2.0.0 (from fastapi[all])\n",
            "  Downloading pydantic_settings-2.10.1-py3-none-any.whl.metadata (3.4 kB)\n",
            "Collecting pydantic-extra-types>=2.0.0 (from fastapi[all])\n",
            "  Downloading pydantic_extra_types-2.10.5-py3-none-any.whl.metadata (3.9 kB)\n",
            "Requirement already satisfied: aiofiles<25.0,>=22.0 in /usr/local/lib/python3.11/dist-packages (from gradio) (24.1.0)\n",
            "Requirement already satisfied: anyio<5.0,>=3.0 in /usr/local/lib/python3.11/dist-packages (from gradio) (4.9.0)\n",
            "Requirement already satisfied: ffmpy in /usr/local/lib/python3.11/dist-packages (from gradio) (0.6.0)\n",
            "Requirement already satisfied: gradio-client==1.10.1 in /usr/local/lib/python3.11/dist-packages (from gradio) (1.10.1)\n",
            "Requirement already satisfied: groovy~=0.1 in /usr/local/lib/python3.11/dist-packages (from gradio) (0.1.2)\n",
            "Requirement already satisfied: huggingface-hub>=0.28.1 in /usr/local/lib/python3.11/dist-packages (from gradio) (0.33.2)\n",
            "Requirement already satisfied: markupsafe<4.0,>=2.0 in /usr/local/lib/python3.11/dist-packages (from gradio) (3.0.2)\n",
            "Requirement already satisfied: numpy<3.0,>=1.0 in /usr/local/lib/python3.11/dist-packages (from gradio) (2.0.2)\n",
            "Requirement already satisfied: packaging in /usr/local/lib/python3.11/dist-packages (from gradio) (24.2)\n",
            "Requirement already satisfied: pandas<3.0,>=1.0 in /usr/local/lib/python3.11/dist-packages (from gradio) (2.2.2)\n",
            "Requirement already satisfied: pillow<12.0,>=8.0 in /usr/local/lib/python3.11/dist-packages (from gradio) (11.2.1)\n",
            "Requirement already satisfied: pydub in /usr/local/lib/python3.11/dist-packages (from gradio) (0.25.1)\n",
            "Requirement already satisfied: ruff>=0.9.3 in /usr/local/lib/python3.11/dist-packages (from gradio) (0.12.2)\n",
            "Requirement already satisfied: safehttpx<0.2.0,>=0.1.6 in /usr/local/lib/python3.11/dist-packages (from gradio) (0.1.6)\n",
            "Requirement already satisfied: semantic-version~=2.0 in /usr/local/lib/python3.11/dist-packages (from gradio) (2.10.0)\n",
            "Requirement already satisfied: tomlkit<0.14.0,>=0.12.0 in /usr/local/lib/python3.11/dist-packages (from gradio) (0.13.3)\n",
            "Requirement already satisfied: typer<1.0,>=0.12 in /usr/local/lib/python3.11/dist-packages (from gradio) (0.16.0)\n",
            "Requirement already satisfied: fsspec in /usr/local/lib/python3.11/dist-packages (from gradio-client==1.10.1->gradio) (2025.3.2)\n",
            "Requirement already satisfied: websockets<16.0,>=10.0 in /usr/local/lib/python3.11/dist-packages (from gradio-client==1.10.1->gradio) (15.0.1)\n",
            "Requirement already satisfied: scipy>=1.6.0 in /usr/local/lib/python3.11/dist-packages (from scikit-learn) (1.15.3)\n",
            "Requirement already satisfied: joblib>=1.2.0 in /usr/local/lib/python3.11/dist-packages (from scikit-learn) (1.5.1)\n",
            "Requirement already satisfied: threadpoolctl>=3.1.0 in /usr/local/lib/python3.11/dist-packages (from scikit-learn) (3.6.0)\n",
            "Requirement already satisfied: click>=7.0 in /usr/local/lib/python3.11/dist-packages (from uvicorn) (8.2.1)\n",
            "Requirement already satisfied: h11>=0.8 in /usr/local/lib/python3.11/dist-packages (from uvicorn) (0.16.0)\n",
            "Requirement already satisfied: idna>=2.8 in /usr/local/lib/python3.11/dist-packages (from anyio<5.0,>=3.0->gradio) (3.10)\n",
            "Requirement already satisfied: sniffio>=1.1 in /usr/local/lib/python3.11/dist-packages (from anyio<5.0,>=3.0->gradio) (1.3.1)\n",
            "Collecting dnspython>=2.0.0 (from email-validator>=2.0.0->fastapi[all])\n",
            "  Downloading dnspython-2.7.0-py3-none-any.whl.metadata (5.8 kB)\n",
            "Collecting rich-toolkit>=0.14.8 (from fastapi-cli>=0.0.8->fastapi-cli[standard]>=0.0.8; extra == \"all\"->fastapi[all])\n",
            "  Downloading rich_toolkit-0.14.8-py3-none-any.whl.metadata (999 bytes)\n",
            "Collecting fastapi-cloud-cli>=0.1.1 (from fastapi-cli[standard]>=0.0.8; extra == \"all\"->fastapi[all])\n",
            "  Downloading fastapi_cloud_cli-0.1.4-py3-none-any.whl.metadata (3.2 kB)\n",
            "Requirement already satisfied: certifi in /usr/local/lib/python3.11/dist-packages (from httpx>=0.23.0->fastapi[all]) (2025.7.9)\n",
            "Requirement already satisfied: httpcore==1.* in /usr/local/lib/python3.11/dist-packages (from httpx>=0.23.0->fastapi[all]) (1.0.9)\n",
            "Requirement already satisfied: filelock in /usr/local/lib/python3.11/dist-packages (from huggingface-hub>=0.28.1->gradio) (3.18.0)\n",
            "Requirement already satisfied: requests in /usr/local/lib/python3.11/dist-packages (from huggingface-hub>=0.28.1->gradio) (2.32.3)\n",
            "Requirement already satisfied: tqdm>=4.42.1 in /usr/local/lib/python3.11/dist-packages (from huggingface-hub>=0.28.1->gradio) (4.67.1)\n",
            "Requirement already satisfied: hf-xet<2.0.0,>=1.1.2 in /usr/local/lib/python3.11/dist-packages (from huggingface-hub>=0.28.1->gradio) (1.1.5)\n",
            "Requirement already satisfied: python-dateutil>=2.8.2 in /usr/local/lib/python3.11/dist-packages (from pandas<3.0,>=1.0->gradio) (2.9.0.post0)\n",
            "Requirement already satisfied: pytz>=2020.1 in /usr/local/lib/python3.11/dist-packages (from pandas<3.0,>=1.0->gradio) (2025.2)\n",
            "Requirement already satisfied: tzdata>=2022.7 in /usr/local/lib/python3.11/dist-packages (from pandas<3.0,>=1.0->gradio) (2025.2)\n",
            "Requirement already satisfied: annotated-types>=0.6.0 in /usr/local/lib/python3.11/dist-packages (from pydantic!=1.8,!=1.8.1,!=2.0.0,!=2.0.1,!=2.1.0,<3.0.0,>=1.7.4->fastapi[all]) (0.7.0)\n",
            "Requirement already satisfied: pydantic-core==2.33.2 in /usr/local/lib/python3.11/dist-packages (from pydantic!=1.8,!=1.8.1,!=2.0.0,!=2.0.1,!=2.1.0,<3.0.0,>=1.7.4->fastapi[all]) (2.33.2)\n",
            "Requirement already satisfied: typing-inspection>=0.4.0 in /usr/local/lib/python3.11/dist-packages (from pydantic!=1.8,!=1.8.1,!=2.0.0,!=2.0.1,!=2.1.0,<3.0.0,>=1.7.4->fastapi[all]) (0.4.1)\n",
            "Collecting python-dotenv>=0.21.0 (from pydantic-settings>=2.0.0->fastapi[all])\n",
            "  Downloading python_dotenv-1.1.1-py3-none-any.whl.metadata (24 kB)\n",
            "Requirement already satisfied: shellingham>=1.3.0 in /usr/local/lib/python3.11/dist-packages (from typer<1.0,>=0.12->gradio) (1.5.4)\n",
            "Requirement already satisfied: rich>=10.11.0 in /usr/local/lib/python3.11/dist-packages (from typer<1.0,>=0.12->gradio) (13.9.4)\n",
            "Collecting httptools>=0.6.3 (from uvicorn[standard]>=0.12.0; extra == \"all\"->fastapi[all])\n",
            "  Downloading httptools-0.6.4-cp311-cp311-manylinux_2_5_x86_64.manylinux1_x86_64.manylinux_2_17_x86_64.manylinux2014_x86_64.whl.metadata (3.6 kB)\n",
            "Collecting uvloop>=0.15.1 (from uvicorn[standard]>=0.12.0; extra == \"all\"->fastapi[all])\n",
            "  Downloading uvloop-0.21.0-cp311-cp311-manylinux_2_17_x86_64.manylinux2014_x86_64.whl.metadata (4.9 kB)\n",
            "Collecting watchfiles>=0.13 (from uvicorn[standard]>=0.12.0; extra == \"all\"->fastapi[all])\n",
            "  Downloading watchfiles-1.1.0-cp311-cp311-manylinux_2_17_x86_64.manylinux2014_x86_64.whl.metadata (4.9 kB)\n",
            "Collecting rignore>=0.5.1 (from fastapi-cloud-cli>=0.1.1->fastapi-cli[standard]>=0.0.8; extra == \"all\"->fastapi[all])\n",
            "  Downloading rignore-0.6.2-cp311-cp311-manylinux_2_17_x86_64.manylinux2014_x86_64.whl.metadata (3.8 kB)\n",
            "Requirement already satisfied: sentry-sdk>=2.20.0 in /usr/local/lib/python3.11/dist-packages (from fastapi-cloud-cli>=0.1.1->fastapi-cli[standard]>=0.0.8; extra == \"all\"->fastapi[all]) (2.32.0)\n",
            "Requirement already satisfied: six>=1.5 in /usr/local/lib/python3.11/dist-packages (from python-dateutil>=2.8.2->pandas<3.0,>=1.0->gradio) (1.17.0)\n",
            "Requirement already satisfied: markdown-it-py>=2.2.0 in /usr/local/lib/python3.11/dist-packages (from rich>=10.11.0->typer<1.0,>=0.12->gradio) (3.0.0)\n",
            "Requirement already satisfied: pygments<3.0.0,>=2.13.0 in /usr/local/lib/python3.11/dist-packages (from rich>=10.11.0->typer<1.0,>=0.12->gradio) (2.19.2)\n",
            "Requirement already satisfied: charset-normalizer<4,>=2 in /usr/local/lib/python3.11/dist-packages (from requests->huggingface-hub>=0.28.1->gradio) (3.4.2)\n",
            "Requirement already satisfied: urllib3<3,>=1.21.1 in /usr/local/lib/python3.11/dist-packages (from requests->huggingface-hub>=0.28.1->gradio) (2.4.0)\n",
            "Requirement already satisfied: mdurl~=0.1 in /usr/local/lib/python3.11/dist-packages (from markdown-it-py>=2.2.0->rich>=10.11.0->typer<1.0,>=0.12->gradio) (0.1.2)\n",
            "Downloading email_validator-2.2.0-py3-none-any.whl (33 kB)\n",
            "Downloading fastapi_cli-0.0.8-py3-none-any.whl (10 kB)\n",
            "Downloading pydantic_extra_types-2.10.5-py3-none-any.whl (38 kB)\n",
            "Downloading pydantic_settings-2.10.1-py3-none-any.whl (45 kB)\n",
            "\u001b[2K   \u001b[90m━━━━━━━━━━━━━━━━━━━━━━━━━━━━━━━━━━━━━━━━\u001b[0m \u001b[32m45.2/45.2 kB\u001b[0m \u001b[31m1.5 MB/s\u001b[0m eta \u001b[36m0:00:00\u001b[0m\n",
            "\u001b[?25hDownloading ujson-5.10.0-cp311-cp311-manylinux_2_17_x86_64.manylinux2014_x86_64.whl (53 kB)\n",
            "\u001b[2K   \u001b[90m━━━━━━━━━━━━━━━━━━━━━━━━━━━━━━━━━━━━━━━━\u001b[0m \u001b[32m53.6/53.6 kB\u001b[0m \u001b[31m2.4 MB/s\u001b[0m eta \u001b[36m0:00:00\u001b[0m\n",
            "\u001b[?25hDownloading dnspython-2.7.0-py3-none-any.whl (313 kB)\n",
            "\u001b[2K   \u001b[90m━━━━━━━━━━━━━━━━━━━━━━━━━━━━━━━━━━━━━━━━\u001b[0m \u001b[32m313.6/313.6 kB\u001b[0m \u001b[31m21.3 MB/s\u001b[0m eta \u001b[36m0:00:00\u001b[0m\n",
            "\u001b[?25hDownloading fastapi_cloud_cli-0.1.4-py3-none-any.whl (18 kB)\n",
            "Downloading httptools-0.6.4-cp311-cp311-manylinux_2_5_x86_64.manylinux1_x86_64.manylinux_2_17_x86_64.manylinux2014_x86_64.whl (459 kB)\n",
            "\u001b[2K   \u001b[90m━━━━━━━━━━━━━━━━━━━━━━━━━━━━━━━━━━━━━━━━\u001b[0m \u001b[32m459.8/459.8 kB\u001b[0m \u001b[31m5.3 MB/s\u001b[0m eta \u001b[36m0:00:00\u001b[0m\n",
            "\u001b[?25hDownloading python_dotenv-1.1.1-py3-none-any.whl (20 kB)\n",
            "Downloading rich_toolkit-0.14.8-py3-none-any.whl (24 kB)\n",
            "Downloading uvloop-0.21.0-cp311-cp311-manylinux_2_17_x86_64.manylinux2014_x86_64.whl (4.0 MB)\n",
            "\u001b[2K   \u001b[90m━━━━━━━━━━━━━━━━━━━━━━━━━━━━━━━━━━━━━━━━\u001b[0m \u001b[32m4.0/4.0 MB\u001b[0m \u001b[31m38.8 MB/s\u001b[0m eta \u001b[36m0:00:00\u001b[0m\n",
            "\u001b[?25hDownloading watchfiles-1.1.0-cp311-cp311-manylinux_2_17_x86_64.manylinux2014_x86_64.whl (453 kB)\n",
            "\u001b[2K   \u001b[90m━━━━━━━━━━━━━━━━━━━━━━━━━━━━━━━━━━━━━━━━\u001b[0m \u001b[32m453.1/453.1 kB\u001b[0m \u001b[31m13.8 MB/s\u001b[0m eta \u001b[36m0:00:00\u001b[0m\n",
            "\u001b[?25hDownloading rignore-0.6.2-cp311-cp311-manylinux_2_17_x86_64.manylinux2014_x86_64.whl (950 kB)\n",
            "\u001b[2K   \u001b[90m━━━━━━━━━━━━━━━━━━━━━━━━━━━━━━━━━━━━━━━━\u001b[0m \u001b[32m950.5/950.5 kB\u001b[0m \u001b[31m21.3 MB/s\u001b[0m eta \u001b[36m0:00:00\u001b[0m\n",
            "\u001b[?25hInstalling collected packages: uvloop, ujson, rignore, python-dotenv, httptools, dnspython, watchfiles, email-validator, rich-toolkit, pydantic-settings, pydantic-extra-types, fastapi-cloud-cli, fastapi-cli\n",
            "Successfully installed dnspython-2.7.0 email-validator-2.2.0 fastapi-cli-0.0.8 fastapi-cloud-cli-0.1.4 httptools-0.6.4 pydantic-extra-types-2.10.5 pydantic-settings-2.10.1 python-dotenv-1.1.1 rich-toolkit-0.14.8 rignore-0.6.2 ujson-5.10.0 uvloop-0.21.0 watchfiles-1.1.0\n"
          ]
        }
      ],
      "source": [
        "!pip install fastapi[all] gradio scikit-learn uvicorn nest-asyncio"
      ]
    },
    {
      "cell_type": "markdown",
      "source": [
        " Step 2: Train the Iris model\n",
        "We’ll use scikit-learn to train a simple classifier and save it."
      ],
      "metadata": {
        "id": "LX3_CQIfxxMJ"
      }
    },
    {
      "cell_type": "markdown",
      "source": [
        "if petal_length < 2:\n",
        "\n",
        "    species = 'Setosa'\n",
        "\n",
        "elif petal_width < 1.8:\n",
        "\n",
        "    species = 'Versicolor'\n",
        "\n",
        "else:\n",
        "\n",
        "    species = 'Virginica'"
      ],
      "metadata": {
        "id": "cZITsYjoOlFY"
      }
    },
    {
      "cell_type": "code",
      "source": [
        "from sklearn.datasets import load_iris\n",
        "from sklearn.ensemble import RandomForestClassifier\n",
        "import pickle\n",
        "\n",
        "# Load Iris data\n",
        "iris = load_iris()\n",
        "X, y = iris.data, iris.target\n",
        "\n",
        "# Train the model\n",
        "clf = RandomForestClassifier()\n",
        "clf.fit(X, y)\n",
        "\n",
        "# Save the model\n",
        "with open(\"iris_model.pkl\", \"wb\") as f:\n",
        "    pickle.dump(clf, f)\n"
      ],
      "metadata": {
        "id": "ykYZU-EEx1Nw"
      },
      "execution_count": null,
      "outputs": []
    },
    {
      "cell_type": "markdown",
      "source": [
        " Step 3: Create the FastAPI app\n",
        "We’ll create a FastAPI app with a Gradio interface to serve predictions."
      ],
      "metadata": {
        "id": "Ok8fJ6tAx9YR"
      }
    },
    {
      "cell_type": "code",
      "source": [
        "%%writefile app.py\n",
        "from fastapi import FastAPI\n",
        "import gradio as gr\n",
        "import pickle\n",
        "import numpy as np\n",
        "\n",
        "# Load the model\n",
        "with open(\"iris_model.pkl\", \"rb\") as f:\n",
        "    model = pickle.load(f)\n",
        "\n",
        "# Define prediction function\n",
        "def predict(sepal_length, sepal_width, petal_length, petal_width):\n",
        "    x = np.array([[sepal_length, sepal_width, petal_length, petal_width]])\n",
        "    y_pred = model.predict(x)[0]\n",
        "    return f\"Predicted class: {y_pred}\"\n",
        "\n",
        "# Create Gradio interface\n",
        "interface = gr.Interface(\n",
        "    fn=predict,\n",
        "    inputs=[\n",
        "        gr.Number(label=\"Sepal Length\"),\n",
        "        gr.Number(label=\"Sepal Width\"),\n",
        "        gr.Number(label=\"Petal Length\"),\n",
        "        gr.Number(label=\"Petal Width\")\n",
        "    ],\n",
        "    outputs=\"text\",\n",
        "    title=\"Iris Classifier\"\n",
        ")\n",
        "\n",
        "# Create FastAPI app\n",
        "app = FastAPI()\n",
        "\n",
        "# Mount Gradio on FastAPI\n",
        "app = gr.mount_gradio_app(app, interface, path=\"/\")\n"
      ],
      "metadata": {
        "colab": {
          "base_uri": "https://localhost:8080/"
        },
        "id": "BmKDesA4x-Iz",
        "outputId": "c1affb81-49f0-4952-a4fb-004bbaf25f02"
      },
      "execution_count": null,
      "outputs": [
        {
          "output_type": "stream",
          "name": "stdout",
          "text": [
            "Writing app.py\n"
          ]
        }
      ]
    },
    {
      "cell_type": "markdown",
      "source": [
        "Step 4: Run the app in Colab\n",
        "\n",
        "Use ngrok to tunnel the app and get a public URL.\n",
        "\n",
        "Install & set up ngrok:"
      ],
      "metadata": {
        "id": "hj0eqgzMyCbu"
      }
    },
    {
      "cell_type": "code",
      "source": [
        "uvicorn.run(\"app:app\", host=\"0.0.0.0\", port=8000)\n"
      ],
      "metadata": {
        "colab": {
          "base_uri": "https://localhost:8080/"
        },
        "id": "xSrRWj7qyccD",
        "outputId": "f6fed029-3041-4fce-d861-cb011cb27c04"
      },
      "execution_count": null,
      "outputs": [
        {
          "output_type": "stream",
          "name": "stderr",
          "text": [
            "WARNING:pyngrok.process.ngrok:t=2025-07-14T16:48:31+0000 lvl=warn msg=\"failed to open private leg\" id=080ca7efb8a9 privaddr=localhost:8000 err=\"dial tcp 127.0.0.1:8000: connect: connection refused\"\n",
            "WARNING:pyngrok.process.ngrok:t=2025-07-14T16:48:32+0000 lvl=warn msg=\"failed to open private leg\" id=0a00eb05abe7 privaddr=localhost:8000 err=\"dial tcp 127.0.0.1:8000: connect: connection refused\"\n",
            "INFO:     Started server process [255]\n",
            "INFO:     Waiting for application startup.\n",
            "INFO:     Application startup complete.\n",
            "INFO:     Uvicorn running on http://0.0.0.0:8000 (Press CTRL+C to quit)\n"
          ]
        },
        {
          "output_type": "stream",
          "name": "stdout",
          "text": [
            "INFO:     103.224.35.45:0 - \"GET / HTTP/1.1\" 307 Temporary Redirect\n",
            "INFO:     103.224.35.45:0 - \"GET // HTTP/1.1\" 200 OK\n",
            "INFO:     103.224.35.45:0 - \"GET //assets/index-Dz5CWoA7.css HTTP/1.1\" 200 OK\n",
            "INFO:     103.224.35.45:0 - \"GET //assets/index-Ccc2t4AG.js HTTP/1.1\" 200 OK\n",
            "INFO:     103.224.35.45:0 - \"GET //assets/svelte/svelte.js HTTP/1.1\" 200 OK\n",
            "INFO:     103.224.35.45:0 - \"GET //assets/Index-BzI0zy4H.js HTTP/1.1\" 200 OK\n",
            "INFO:     103.224.35.45:0 - \"GET //assets/Embed-yYAfXBkj.js HTTP/1.1\" 200 OK\n",
            "INFO:     103.224.35.45:0 - \"GET //assets/index-BFBcOI-E.js HTTP/1.1\" 200 OK\n",
            "INFO:     103.224.35.45:0 - \"GET //assets/DownloadLink.svelte_svelte_type_style_lang-C_5UIfol.js HTTP/1.1\" 200 OK\n",
            "INFO:     103.224.35.45:0 - \"GET //assets/IconButton-C_HS7fTi.js HTTP/1.1\" 200 OK\n",
            "INFO:     103.224.35.45:0 - \"GET //assets/Index-BJ_RfjVB.css HTTP/1.1\" 200 OK\n",
            "INFO:     103.224.35.45:0 - \"GET //assets/MarkdownCode-Dw1-H2nG.css HTTP/1.1\" 200 OK\n",
            "INFO:     103.224.35.45:0 - \"GET //assets/Clear-By3xiIwg.js HTTP/1.1\" 200 OK\n",
            "INFO:     103.224.35.45:0 - \"GET //assets/MarkdownCode.svelte_svelte_type_style_lang-DzFJaVYu.js HTTP/1.1\" 200 OK\n",
            "INFO:     103.224.35.45:0 - \"GET //assets/prism-python-D8O99YiR.js HTTP/1.1\" 200 OK\n",
            "INFO:     103.224.35.45:0 - \"GET //assets/StreamingBar-DOagx4HU.css HTTP/1.1\" 200 OK\n",
            "INFO:     103.224.35.45:0 - \"GET //assets/IconButtonWrapper-BqcF4N5S.css HTTP/1.1\" 200 OK\n",
            "INFO:     103.224.35.45:0 - \"GET //assets/DownloadLink-CqD3Uu0l.css HTTP/1.1\" 200 OK\n",
            "INFO:     103.224.35.45:0 - \"GET //assets/StreamingBar.svelte_svelte_type_style_lang-CDNxkBIr.js HTTP/1.1\" 200 OK\n",
            "INFO:     103.224.35.45:0 - \"GET /favicon.ico HTTP/1.1\" 200 OK\n",
            "INFO:     103.224.35.45:0 - \"GET /theme.css?v=63194d3741d384f9f85db890247b6c0ef9e7abac0f297f40a15c59fe4baba916 HTTP/1.1\" 200 OK\n",
            "INFO:     103.224.35.45:0 - \"GET //assets/Blocks-CvpDAyLR.js HTTP/1.1\" 200 OK\n",
            "INFO:     103.224.35.45:0 - \"GET //assets/Toast-DTlCeY7K.js HTTP/1.1\" 200 OK\n",
            "INFO:     103.224.35.45:0 - \"GET //assets/Image-B8dFOee4.css HTTP/1.1\" 200 OK\n",
            "INFO:     103.224.35.45:0 - \"GET //assets/DropdownArrow-DYWFcSFn.js HTTP/1.1\" 200 OK\n",
            "INFO:     103.224.35.45:0 - \"GET //assets/Checkbox-1fK2t2Mh.js HTTP/1.1\" 200 OK\n",
            "INFO:     103.224.35.45:0 - \"GET //assets/Button-Dy8yxofg.js HTTP/1.1\" 200 OK\n",
            "INFO:     103.224.35.45:0 - \"GET //assets/ImagePreview-C_qhEOxI.css HTTP/1.1\" 200 OK\n",
            "INFO:     103.224.35.45:0 - \"GET //assets/utils-BsGrhMNe.js HTTP/1.1\" 200 OK\n",
            "INFO:     103.224.35.45:0 - \"GET //assets/Block-CJdXVpa7.js HTTP/1.1\" 200 OK\n",
            "INFO:     103.224.35.45:0 - \"GET //assets/Dropdown-Ib2nGkdD.js HTTP/1.1\" 200 OK\n",
            "INFO:     103.224.35.45:0 - \"GET //assets/Button-DTh9AgeE.css HTTP/1.1\" 200 OK\n",
            "INFO:     103.224.35.45:0 - \"GET //assets/Example-D7K5RtQ2.css HTTP/1.1\" 200 OK\n",
            "INFO:     103.224.35.45:0 - \"GET //assets/file-url-DoxvUUVV.js HTTP/1.1\" 200 OK\n",
            "INFO:     103.224.35.45:0 - \"GET //assets/BlockTitle-D2VH9_Na.js HTTP/1.1\" 200 OK\n",
            "INFO:     103.224.35.45:0 - \"GET //assets/Blocks-CDJynZ58.css HTTP/1.1\" 200 OK\n",
            "INFO:     103.224.35.45:0 - \"GET //assets/Checkbox-WIAKB-_s.css HTTP/1.1\" 200 OK\n",
            "INFO:     103.224.35.45:0 - \"GET //assets/MarkdownCode-BRQ4PUpt.js HTTP/1.1\" 200 OK\n",
            "INFO:     103.224.35.45:0 - \"GET //assets/index-CRyThWY1.js HTTP/1.1\" 200 OK\n",
            "INFO:     103.224.35.45:0 - \"GET //assets/Image-CnqB5dbD.js HTTP/1.1\" 200 OK\n",
            "INFO:     103.224.35.45:0 - \"GET //assets/Dropdown-CWxB-qJp.css HTTP/1.1\" 200 OK\n",
            "INFO:     103.224.35.45:0 - \"GET //assets/Info-BpelqhYn.js HTTP/1.1\" 200 OK\n",
            "INFO:     103.224.35.45:0 - \"GET /static/fonts/ui-sans-serif/ui-sans-serif-Regular.woff2 HTTP/1.1\" 404 Not Found\n",
            "INFO:     103.224.35.45:0 - \"GET /static/fonts/IBMPlexMono/IBMPlexMono-Regular.woff2 HTTP/1.1\" 200 OK\n",
            "INFO:     103.224.35.45:0 - \"GET //assets/Index-AokCAbrK.js HTTP/1.1\" 200 OK\n",
            "INFO:     103.224.35.45:0 - \"GET //assets/Check-CEkiXcyC.js HTTP/1.1\" 200 OK\n",
            "INFO:     103.224.35.45:0 - \"GET //assets/Copy-CxQ9EyK2.js HTTP/1.1\" 200 OK\n",
            "INFO:     103.224.35.45:0 - \"GET //assets/IconButtonWrapper--EIOWuEM.js HTTP/1.1\" 200 OK\n",
            "INFO:     103.224.35.45:0 - \"GET //assets/Index-CfowPFmo.css HTTP/1.1\" 200 OK\n",
            "INFO:     103.224.35.45:0 - \"GET //assets/Example-s6q-Imk8.js HTTP/1.1\" 200 OK\n",
            "INFO:     103.224.35.45:0 - \"GET //assets/Index-BTXaMQgd.css HTTP/1.1\" 200 OK\n",
            "INFO:     103.224.35.45:0 - \"GET //assets/Index-CptIZeFZ.css HTTP/1.1\" 200 OK\n",
            "INFO:     103.224.35.45:0 - \"GET //assets/Example-ClKJOMGh.css HTTP/1.1\" 200 OK\n",
            "INFO:     103.224.35.45:0 - \"GET //assets/Index-C_pBLFQL.js HTTP/1.1\" 200 OK\n",
            "INFO:     103.224.35.45:0 - \"GET //assets/Textbox-DI9Q41tU.js HTTP/1.1\" 200 OK\n",
            "INFO:     103.224.35.45:0 - \"GET //assets/Square-oAGqOwsh.js HTTP/1.1\" 200 OK\n",
            "INFO:     103.224.35.45:0 - \"GET //assets/Index-12OnbRhk.css HTTP/1.1\" 200 OK\n",
            "INFO:     103.224.35.45:0 - \"GET //assets/Index-CxbCa_Hu.js HTTP/1.1\" 200 OK\n",
            "INFO:     103.224.35.45:0 - \"GET //assets/Example-Cx2SdskM.js HTTP/1.1\" 200 OK\n",
            "INFO:     103.224.35.45:0 - \"GET //assets/Textbox-jWD3sCxr.css HTTP/1.1\" 200 OK\n",
            "INFO:     103.224.35.45:0 - \"GET //assets/Index-Dclo02rM.css HTTP/1.1\" 200 OK\n",
            "INFO:     103.224.35.45:0 - \"GET //assets/Index-BGqHGXa7.js HTTP/1.1\" 200 OK\n",
            "INFO:     103.224.35.45:0 - \"GET //assets/Index-DAKBwkte.js HTTP/1.1\" 200 OK\n",
            "INFO:     103.224.35.45:0 - \"GET //assets/Index-CGhgRfEX.js HTTP/1.1\" 200 OK\n",
            "INFO:     103.224.35.45:0 - \"GET //assets/Send-DyoOovnk.js HTTP/1.1\" 200 OK\n",
            "INFO:     103.224.35.45:0 - \"GET //assets/Index-DE1Sah7F.js HTTP/1.1\" 200 OK\n",
            "INFO:     103.224.35.45:0 - \"POST /gradio_api/queue/join HTTP/1.1\" 200 OK\n",
            "INFO:     103.224.35.45:0 - \"GET /gradio_api/queue/data?session_hash=kr5f2y6ua4 HTTP/1.1\" 200 OK\n"
          ]
        }
      ]
    },
    {
      "cell_type": "code",
      "source": [
        "!pip install pyngrok\n",
        "from pyngrok import ngrok\n",
        "import nest_asyncio\n",
        "import uvicorn\n",
        "\n",
        "# Allow nested event loops\n",
        "nest_asyncio.apply()\n",
        "\n",
        "# 🔑 Set your ngrok authtoken here\n",
        "ngrok.set_auth_token(\"2zpTw0AasvxhVZGU5klund7atRH_4mHs7dfgfNgmKjfG1gSSq\")\n",
        "\n",
        "# Expose port 8000\n",
        "public_url = ngrok.connect(8000)\n",
        "print(f\"Public URL: {public_url}\")\n"
      ],
      "metadata": {
        "colab": {
          "base_uri": "https://localhost:8080/"
        },
        "id": "_aeCYAUiz5gD",
        "outputId": "64ba92ed-cab7-40e1-bc11-d0213c5a9989"
      },
      "execution_count": null,
      "outputs": [
        {
          "output_type": "stream",
          "name": "stdout",
          "text": [
            "Collecting pyngrok\n",
            "  Downloading pyngrok-7.2.12-py3-none-any.whl.metadata (9.4 kB)\n",
            "Requirement already satisfied: PyYAML>=5.1 in /usr/local/lib/python3.11/dist-packages (from pyngrok) (6.0.2)\n",
            "Downloading pyngrok-7.2.12-py3-none-any.whl (26 kB)\n",
            "Installing collected packages: pyngrok\n",
            "Successfully installed pyngrok-7.2.12\n",
            "Public URL: NgrokTunnel: \"https://57e692920548.ngrok-free.app\" -> \"http://localhost:8000\"\n"
          ]
        }
      ]
    }
  ]
}