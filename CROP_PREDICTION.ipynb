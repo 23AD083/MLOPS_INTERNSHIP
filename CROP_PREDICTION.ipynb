{
  "nbformat": 4,
  "nbformat_minor": 0,
  "metadata": {
    "colab": {
      "provenance": [],
      "authorship_tag": "ABX9TyMknlN/TYBuXByWCInalDog",
      "include_colab_link": true
    },
    "kernelspec": {
      "name": "python3",
      "display_name": "Python 3"
    },
    "language_info": {
      "name": "python"
    }
  },
  "cells": [
    {
      "cell_type": "markdown",
      "metadata": {
        "id": "view-in-github",
        "colab_type": "text"
      },
      "source": [
        "<a href=\"https://colab.research.google.com/github/23AD083/MLOPS_INTERNSHIP/blob/main/CROP_PREDICTION.ipynb\" target=\"_parent\"><img src=\"https://colab.research.google.com/assets/colab-badge.svg\" alt=\"Open In Colab\"/></a>"
      ]
    },
    {
      "cell_type": "code",
      "execution_count": null,
      "metadata": {
        "id": "ZDCo_eQ9Yjkj"
      },
      "outputs": [],
      "source": []
    },
    {
      "cell_type": "markdown",
      "source": [
        "DAY 11 - 16/07/2025\n"
      ],
      "metadata": {
        "id": "IX_Eg87DYkwj"
      }
    },
    {
      "cell_type": "markdown",
      "source": [
        "STEP 01 ) **PROBLEM** DEFINITION - CROP CULTIVATION SUGGESTION"
      ],
      "metadata": {
        "id": "II9Fqb6ZZAk7"
      }
    },
    {
      "cell_type": "code",
      "source": [
        "\n",
        "# Libraries for data manipulation and analysis\n",
        "import pandas as pd\n",
        "import numpy as np\n",
        "\n",
        "# Libraries for machine learning model building and evaluation\n",
        "from sklearn.model_selection import train_test_split\n",
        "from sklearn.ensemble import RandomForestClassifier\n",
        "from sklearn.metrics import classification_report, confusion_matrix, accuracy_score\n"
      ],
      "metadata": {
        "id": "5TaK4GaXZGTT"
      },
      "execution_count": null,
      "outputs": []
    },
    {
      "cell_type": "markdown",
      "source": [
        "STEP 02 ) DATA CALLOECTION FROM THE GIVE CSV **FILE**"
      ],
      "metadata": {
        "id": "DtoxnHfVZUFE"
      }
    },
    {
      "cell_type": "code",
      "source": [
        "\n",
        "\n",
        "from google.colab import drive\n",
        "drive.mount('/content/drive')\n",
        "\n",
        "# Replace 'your_file_name.csv' with the actual path to your CSV file in Google Drive\n",
        "file_path = '/content/cropdata.csv'\n",
        "df = pd.read_csv(file_path)\n",
        "\n",
        "\n"
      ],
      "metadata": {
        "colab": {
          "base_uri": "https://localhost:8080/"
        },
        "id": "u8Hk7j7MZjiv",
        "outputId": "3ca033a7-1567-49c5-cf68-334ebda0cbf4"
      },
      "execution_count": null,
      "outputs": [
        {
          "output_type": "stream",
          "name": "stdout",
          "text": [
            "Drive already mounted at /content/drive; to attempt to forcibly remount, call drive.mount(\"/content/drive\", force_remount=True).\n"
          ]
        }
      ]
    },
    {
      "cell_type": "markdown",
      "source": [
        "STEP 03 ) PREPROCESSING **bold text**"
      ],
      "metadata": {
        "id": "5EdR2Q9daKf4"
      }
    },
    {
      "cell_type": "code",
      "source": [
        "# prompt: give the code for the head , info , desc , null value , outlier\n",
        "\n",
        "# head\n",
        "print(\"Head of the dataframe:\")\n",
        "print(df.head())\n",
        "\n"
      ],
      "metadata": {
        "colab": {
          "base_uri": "https://localhost:8080/"
        },
        "id": "0PyVByRRaOUF",
        "outputId": "8df0735a-cd88-4bf5-b295-7894075a8473"
      },
      "execution_count": null,
      "outputs": [
        {
          "output_type": "stream",
          "name": "stdout",
          "text": [
            "Head of the dataframe:\n",
            "    N   P   K  temperature   humidity        ph    rainfall label\n",
            "0  90  42  43    20.879744  82.002744  6.502985  202.935536  rice\n",
            "1  85  58  41    21.770462  80.319644  7.038096  226.655537  rice\n",
            "2  60  55  44    23.004459  82.320763  7.840207  263.964248  rice\n",
            "3  74  35  40    26.491096  80.158363  6.980401  242.864034  rice\n",
            "4  78  42  42    20.130175  81.604873  7.628473  262.717340  rice\n"
          ]
        }
      ]
    },
    {
      "cell_type": "code",
      "source": [
        "\n",
        "# info\n",
        "print(\"\\nInformation about the dataframe:\")\n",
        "df.info()\n"
      ],
      "metadata": {
        "colab": {
          "base_uri": "https://localhost:8080/"
        },
        "id": "d5Epgdf0a9xQ",
        "outputId": "74c7420e-9c91-41d0-c26c-d62300e65ea3"
      },
      "execution_count": null,
      "outputs": [
        {
          "output_type": "stream",
          "name": "stdout",
          "text": [
            "\n",
            "Information about the dataframe:\n",
            "<class 'pandas.core.frame.DataFrame'>\n",
            "RangeIndex: 2200 entries, 0 to 2199\n",
            "Data columns (total 8 columns):\n",
            " #   Column       Non-Null Count  Dtype  \n",
            "---  ------       --------------  -----  \n",
            " 0   N            2200 non-null   int64  \n",
            " 1   P            2200 non-null   int64  \n",
            " 2   K            2200 non-null   int64  \n",
            " 3   temperature  2200 non-null   float64\n",
            " 4   humidity     2200 non-null   float64\n",
            " 5   ph           2200 non-null   float64\n",
            " 6   rainfall     2200 non-null   float64\n",
            " 7   label        2200 non-null   object \n",
            "dtypes: float64(4), int64(3), object(1)\n",
            "memory usage: 137.6+ KB\n"
          ]
        }
      ]
    },
    {
      "cell_type": "code",
      "source": [
        "\n",
        "# describe\n",
        "print(\"\\nStatistical description of the dataframe:\")\n",
        "print(df.describe())\n"
      ],
      "metadata": {
        "colab": {
          "base_uri": "https://localhost:8080/"
        },
        "id": "kWXr0GUBbAbz",
        "outputId": "d509b61c-ecb5-4d23-d975-8105823d2d29"
      },
      "execution_count": null,
      "outputs": [
        {
          "output_type": "stream",
          "name": "stdout",
          "text": [
            "\n",
            "Statistical description of the dataframe:\n",
            "                 N            P            K  temperature     humidity  \\\n",
            "count  2200.000000  2200.000000  2200.000000  2200.000000  2200.000000   \n",
            "mean     50.551818    53.362727    48.149091    25.616244    71.481779   \n",
            "std      36.917334    32.985883    50.647931     5.063749    22.263812   \n",
            "min       0.000000     5.000000     5.000000     8.825675    14.258040   \n",
            "25%      21.000000    28.000000    20.000000    22.769375    60.261953   \n",
            "50%      37.000000    51.000000    32.000000    25.598693    80.473146   \n",
            "75%      84.250000    68.000000    49.000000    28.561654    89.948771   \n",
            "max     140.000000   145.000000   205.000000    43.675493    99.981876   \n",
            "\n",
            "                ph     rainfall  \n",
            "count  2200.000000  2200.000000  \n",
            "mean      6.469480   103.463655  \n",
            "std       0.773938    54.958389  \n",
            "min       3.504752    20.211267  \n",
            "25%       5.971693    64.551686  \n",
            "50%       6.425045    94.867624  \n",
            "75%       6.923643   124.267508  \n",
            "max       9.935091   298.560117  \n"
          ]
        }
      ]
    },
    {
      "cell_type": "code",
      "source": [
        "\n",
        "# null values\n",
        "print(\"\\nNumber of null values per column:\")\n",
        "print(df.isnull().sum())\n",
        "\n",
        "# outlier detection (using IQR method as an example)\n",
        "# For numerical columns, identify potential outliers\n",
        "numerical_cols = df.select_dtypes(include=np.number).columns"
      ],
      "metadata": {
        "colab": {
          "base_uri": "https://localhost:8080/"
        },
        "id": "Gi-1pWHGbC9q",
        "outputId": "111e47f7-df82-4808-a5b4-afea7074ee65"
      },
      "execution_count": null,
      "outputs": [
        {
          "output_type": "stream",
          "name": "stdout",
          "text": [
            "\n",
            "Number of null values per column:\n",
            "N              0\n",
            "P              0\n",
            "K              0\n",
            "temperature    0\n",
            "humidity       0\n",
            "ph             0\n",
            "rainfall       0\n",
            "label          0\n",
            "dtype: int64\n"
          ]
        }
      ]
    },
    {
      "cell_type": "code",
      "source": [
        "# Assuming 'label' is the column name indicating the crop type\n",
        "# Assuming 'df' is your pandas DataFrame loaded from the CSV\n",
        "\n",
        "# Separate data by crop type\n",
        "df_by_crop = {crop: df[df['label'] == crop] for crop in df['label'].unique()}\n",
        "\n",
        "\n",
        "# Determine the minimum number of samples per crop\n",
        "min_samples = min(len(df_by_crop[crop]) for crop in df_by_crop)\n",
        "\n",
        "# Sample the minimum number of samples from each crop and concatenate\n",
        "balanced_df = pd.concat([df_by_crop[crop].sample(min_samples, random_state=42) for crop in df_by_crop])\n",
        "\n",
        "# Shuffle the balanced dataframe\n",
        "balanced_df = balanced_df.sample(frac=1, random_state=42).reset_index(drop=True)\n",
        "\n",
        "# Now, split the balanced_df into train and test sets\n",
        "X = balanced_df.drop('label', axis=1) # Assuming 'label' is the target variable\n",
        "y = balanced_df['label']\n",
        "\n",
        "X_train, X_test, y_train, y_test = train_test_split(X, y, test_size=0.2, random_state=42, stratify=y)\n",
        "\n",
        "print(\"\\nBalanced and Shuffled Dataframe:\")\n",
        "print(balanced_df.head())"
      ],
      "metadata": {
        "colab": {
          "base_uri": "https://localhost:8080/"
        },
        "id": "wT_2F0jCbFlw",
        "outputId": "0443cde6-3983-411d-9464-dcf93d5c2672"
      },
      "execution_count": null,
      "outputs": [
        {
          "output_type": "stream",
          "name": "stdout",
          "text": [
            "\n",
            "Balanced and Shuffled Dataframe:\n",
            "     N    P    K  temperature   humidity        ph    rainfall       label\n",
            "0  118   18   52    28.049436  90.831307  6.562833   20.762230   muskmelon\n",
            "1   95   14   50    26.633312  84.317568  6.560444   56.318662  watermelon\n",
            "2   39   64   53    23.012402  91.073555  6.598860  208.335798      papaya\n",
            "3   70   68   45    33.835086  92.854702  6.991626  203.404403      papaya\n",
            "4   29  138  197    22.190554  92.437642  5.830892  121.662276       apple\n"
          ]
        }
      ]
    },
    {
      "cell_type": "code",
      "source": [],
      "metadata": {
        "id": "LWdOLc2DjgDA"
      },
      "execution_count": null,
      "outputs": []
    },
    {
      "cell_type": "code",
      "source": [
        "# prompt: print the labeled data\n",
        "\n",
        "print(\"\\nLabels in the dataset:\")\n",
        "print(y.unique())\n",
        "\n",
        "print(\"\\nTraining labels distribution:\")\n",
        "print(y_train.value_counts())\n",
        "\n",
        "print(\"\\nTesting labels distribution:\")\n",
        "print(y_test.value_counts())"
      ],
      "metadata": {
        "colab": {
          "base_uri": "https://localhost:8080/"
        },
        "id": "bjI-sKsvi81P",
        "outputId": "28e940f0-e6aa-4065-b7aa-70f19e9b51f6"
      },
      "execution_count": 33,
      "outputs": [
        {
          "output_type": "stream",
          "name": "stdout",
          "text": [
            "\n",
            "Labels in the dataset:\n",
            "['muskmelon' 'watermelon' 'papaya' 'apple' 'mango' 'mothbeans' 'mungbean'\n",
            " 'lentil' 'blackgram' 'coconut' 'pomegranate' 'jute' 'maize' 'coffee'\n",
            " 'orange' 'chickpea' 'pigeonpeas' 'rice' 'kidneybeans' 'grapes' 'cotton'\n",
            " 'banana']\n",
            "\n",
            "Training labels distribution:\n",
            "label\n",
            "orange         80\n",
            "grapes         80\n",
            "kidneybeans    80\n",
            "mothbeans      80\n",
            "cotton         80\n",
            "banana         80\n",
            "lentil         80\n",
            "mungbean       80\n",
            "coffee         80\n",
            "muskmelon      80\n",
            "apple          80\n",
            "blackgram      80\n",
            "pigeonpeas     80\n",
            "maize          80\n",
            "rice           80\n",
            "watermelon     80\n",
            "jute           80\n",
            "mango          80\n",
            "pomegranate    80\n",
            "papaya         80\n",
            "coconut        80\n",
            "chickpea       80\n",
            "Name: count, dtype: int64\n",
            "\n",
            "Testing labels distribution:\n",
            "label\n",
            "orange         20\n",
            "banana         20\n",
            "cotton         20\n",
            "maize          20\n",
            "chickpea       20\n",
            "rice           20\n",
            "blackgram      20\n",
            "watermelon     20\n",
            "pomegranate    20\n",
            "mothbeans      20\n",
            "grapes         20\n",
            "mango          20\n",
            "apple          20\n",
            "kidneybeans    20\n",
            "jute           20\n",
            "coffee         20\n",
            "coconut        20\n",
            "papaya         20\n",
            "lentil         20\n",
            "mungbean       20\n",
            "pigeonpeas     20\n",
            "muskmelon      20\n",
            "Name: count, dtype: int64\n"
          ]
        }
      ]
    },
    {
      "cell_type": "code",
      "source": [
        "# prompt: code for encoding the dataset with labeled data with labeled data\n",
        "\n",
        "from sklearn.preprocessing import LabelEncoder\n",
        "\n",
        "# Encode the target variable 'label'\n",
        "le = LabelEncoder()\n",
        "y_train_encoded = le.fit_transform(y_train)\n",
        "y_test_encoded = le.transform(y_test)\n",
        "\n",
        "print(\"\\nEncoded Training Labels:\")\n",
        "print(y_train_encoded[:5])\n",
        "print(\"\\nEncoded Testing Labels:\")\n",
        "print(y_test_encoded[:5])"
      ],
      "metadata": {
        "id": "Ji-65o3DbKdi",
        "colab": {
          "base_uri": "https://localhost:8080/"
        },
        "outputId": "adf5157d-dc7e-49e0-b12d-f72088a3d881"
      },
      "execution_count": 30,
      "outputs": [
        {
          "output_type": "stream",
          "name": "stdout",
          "text": [
            "\n",
            "Encoded Training Labels:\n",
            "[16  7  9 13 16]\n",
            "\n",
            "Encoded Testing Labels:\n",
            "[16  1  6 11 16]\n"
          ]
        }
      ]
    }
  ]
}